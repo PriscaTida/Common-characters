{
 "cells": [
  {
   "cell_type": "code",
   "execution_count": 1,
   "id": "d1d6bc48",
   "metadata": {},
   "outputs": [
    {
     "data": {
      "text/plain": [
       "5"
      ]
     },
     "execution_count": 1,
     "metadata": {},
     "output_type": "execute_result"
    }
   ],
   "source": [
    "def common_count(A,B):\n",
    "    A1 = \"\"\n",
    "    B1 = \"\"\n",
    "\n",
    "    for i in A:\n",
    "        if i not in B:\n",
    "            A1 = A1+i\n",
    "\n",
    "    for i in B:\n",
    "        if i not in A:\n",
    "            B1 = B1+i\n",
    "\n",
    "    count = len(A+B) - len(A1+B1)\n",
    "    return count\n",
    "\n",
    "common_count(\"AJAY\",\"PRIYA\")"
   ]
  },
  {
   "cell_type": "code",
   "execution_count": null,
   "id": "f88a49ce",
   "metadata": {},
   "outputs": [],
   "source": [
    "# function for removing common characters\n",
    "# with their respective occurrences\n",
    "def remove_match_char(list1, list2):\n",
    " \n",
    "    for i in range(len(list1)) :\n",
    "        for j in range(len(list2)) :\n",
    " \n",
    "            # if common character is found\n",
    "            # then remove that character\n",
    "            # and return list of concatenated\n",
    "            # list with True Flag\n",
    "            if list1[i] == list2[j] :\n",
    "                c = list1[i]\n",
    " \n",
    "                # remove character from the list\n",
    "                list1.remove(c)\n",
    "                list2.remove(c)\n",
    " \n",
    "                # concatenation of two list elements with *\n",
    "                # * is act as border mark here\n",
    "                list3 = list1 + [\"*\"] + list2\n",
    " \n",
    "                # return the concatenated list with True flag\n",
    "                return [list3, True]\n",
    " \n",
    "    # no common characters is found\n",
    "    # return the concatenated list with False flag\n",
    "    list3 = list1 + [\"*\"] + list2\n",
    "    return [list3, False]"
   ]
  }
 ],
 "metadata": {
  "kernelspec": {
   "display_name": "Python 3 (ipykernel)",
   "language": "python",
   "name": "python3"
  },
  "language_info": {
   "codemirror_mode": {
    "name": "ipython",
    "version": 3
   },
   "file_extension": ".py",
   "mimetype": "text/x-python",
   "name": "python",
   "nbconvert_exporter": "python",
   "pygments_lexer": "ipython3",
   "version": "3.9.12"
  }
 },
 "nbformat": 4,
 "nbformat_minor": 5
}
